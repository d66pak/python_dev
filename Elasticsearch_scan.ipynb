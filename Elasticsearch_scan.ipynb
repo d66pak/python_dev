{
 "cells": [
  {
   "cell_type": "markdown",
   "metadata": {},
   "source": [
    "## NOTE: Not working in office network as the port 9243 is blocked. It works from any ec2 machine."
   ]
  },
  {
   "cell_type": "code",
   "execution_count": 1,
   "metadata": {
    "collapsed": true
   },
   "outputs": [],
   "source": [
    "from elasticsearch import Elasticsearch\n",
    "from elasticsearch import helpers\n",
    "import certif"
   ]
  },
  {
   "cell_type": "code",
   "execution_count": 2,
   "metadata": {
    "collapsed": true
   },
   "outputs": [],
   "source": [
    "HOST = '88cb01ef.ap-southeast-2.aws.found.io'\n",
    "PORT = 9243\n",
    "USER = 'elastic'\n",
    "PASSWORD = 'UV3k3nPT99'\n",
    "\n",
    "ES_INDEX = 'mopt'\n",
    "ES_TYPE = 'customer_sales'\n",
    "\n",
    "DOCUMENT = {\n",
    "    \"channelId\": 1,\n",
    "    \"channelCode\": \"W\",\n",
    "    \"seat\": \"18\",\n",
    "    \"salutation\": \"Mr\",\n",
    "    \"row\": \"F\",\n",
    "    \"priceCategoryCode\": \"2\",\n",
    "    \"faceValueFees\": 576,\n",
    "    \"section\": \"SP22\",\n",
    "    \"priceTypeCode\": \"F\",\n",
    "    \"state\": \"VIC\",\n",
    "    \"phoneNumber\": \"0438309291\",\n",
    "    \"priceCategoryName\": \"Category 2\",\n",
    "    \"productId\": \"EAFL2017980\",\n",
    "    \"orderId\": \"20170623,9645\",\n",
    "    \"productMarketingType\": None,\n",
    "    \"canContact\": 1,\n",
    "    \"productWho\": None,\n",
    "    \"city\": \"Box North\",\n",
    "    \"price\": 9324,\n",
    "    \"barcode\": \"54d53a75ad0e9eb8ffceb26e552cccxxxxxxxx56568\",\n",
    "    \"priceTypeName\": \"PGADT\",\n",
    "    \"emailAddress\": \"dan.wlkjards@telstra.com\",\n",
    "    \"address\": \"5 Mitta st \",\n",
    "    \"transactionDateTime\": \"2017-06-23T00:00:41Z\",\n",
    "    \"productWhere\": None,\n",
    "    \"firstName\": \"daniel\",\n",
    "    \"lastName\": \"wlkjards\",\n",
    "    \"productWhen\": None,\n",
    "    \"productShow\": None,\n",
    "    \"customerId\": 2021111110,\n",
    "    \"quantity\": 1\n",
    "}"
   ]
  },
  {
   "cell_type": "code",
   "execution_count": 3,
   "metadata": {
    "collapsed": true
   },
   "outputs": [],
   "source": [
    "es = Elasticsearch(\n",
    "    [HOST],\n",
    "    http_auth=(USER, PASSWORD),\n",
    "    port=PORT,\n",
    "    use_ssl=True\n",
    ")"
   ]
  },
  {
   "cell_type": "code",
   "execution_count": 8,
   "metadata": {},
   "outputs": [
    {
     "data": {
      "text/plain": [
       "<Elasticsearch([{u'host': u'0d921cb6b29c5241092ee56488cb01ef.ap-southeast-2.aws.found.io'}])>"
      ]
     },
     "execution_count": 8,
     "metadata": {},
     "output_type": "execute_result"
    }
   ],
   "source": [
    "es"
   ]
  },
  {
   "cell_type": "code",
   "execution_count": 9,
   "metadata": {},
   "outputs": [
    {
     "data": {
      "text/plain": [
       "'elastic'"
      ]
     },
     "execution_count": 9,
     "metadata": {},
     "output_type": "execute_result"
    }
   ],
   "source": [
    "USER"
   ]
  },
  {
   "cell_type": "code",
   "execution_count": 10,
   "metadata": {},
   "outputs": [
    {
     "data": {
      "text/plain": [
       "'G0OtzveAUV3k3nPlc3R3T9K9'"
      ]
     },
     "execution_count": 10,
     "metadata": {},
     "output_type": "execute_result"
    }
   ],
   "source": [
    "PASSWORD"
   ]
  },
  {
   "cell_type": "code",
   "execution_count": 11,
   "metadata": {},
   "outputs": [
    {
     "data": {
      "text/plain": [
       "9243"
      ]
     },
     "execution_count": 11,
     "metadata": {},
     "output_type": "execute_result"
    }
   ],
   "source": [
    "PORT"
   ]
  },
  {
   "cell_type": "code",
   "execution_count": null,
   "metadata": {
    "collapsed": true
   },
   "outputs": [],
   "source": []
  },
  {
   "cell_type": "code",
   "execution_count": 4,
   "metadata": {
    "collapsed": true
   },
   "outputs": [],
   "source": [
    "import copy\n",
    "l_d_records = [DOCUMENT]\n",
    "l_d_records_copy = copy.deepcopy(l_d_records)\n",
    "\n",
    "for d_record in l_d_records_copy:\n",
    "                d_record['_index'] = ES_INDEX\n",
    "                d_record['_type'] = ES_TYPE"
   ]
  },
  {
   "cell_type": "code",
   "execution_count": 5,
   "metadata": {},
   "outputs": [
    {
     "data": {
      "text/plain": [
       "[{'address': '5 Mitta st ',\n",
       "  'barcode': '54d53a75ad0e9eb8ffceb26e552cccxxxxxxxx56568',\n",
       "  'canContact': 1,\n",
       "  'channelCode': 'W',\n",
       "  'channelId': 1,\n",
       "  'city': 'Box North',\n",
       "  'customerId': 2021111110,\n",
       "  'emailAddress': 'dan.wlkjards@telstra.com',\n",
       "  'faceValueFees': 576,\n",
       "  'firstName': 'daniel',\n",
       "  'lastName': 'wlkjards',\n",
       "  'orderId': '20170623,9645',\n",
       "  'phoneNumber': '0438309291',\n",
       "  'price': 9324,\n",
       "  'priceCategoryCode': '2',\n",
       "  'priceCategoryName': 'Category 2',\n",
       "  'priceTypeCode': 'F',\n",
       "  'priceTypeName': 'PGADT',\n",
       "  'productId': 'EAFL2017980',\n",
       "  'productMarketingType': None,\n",
       "  'productShow': None,\n",
       "  'productWhen': None,\n",
       "  'productWhere': None,\n",
       "  'productWho': None,\n",
       "  'quantity': 1,\n",
       "  'row': 'F',\n",
       "  'salutation': 'Mr',\n",
       "  'seat': '18',\n",
       "  'section': 'SP22',\n",
       "  'state': 'VIC',\n",
       "  'transactionDateTime': '2017-06-23T00:00:41Z'}]"
      ]
     },
     "execution_count": 5,
     "metadata": {},
     "output_type": "execute_result"
    }
   ],
   "source": [
    "l_d_records"
   ]
  },
  {
   "cell_type": "code",
   "execution_count": 6,
   "metadata": {},
   "outputs": [
    {
     "data": {
      "text/plain": [
       "[{'_index': 'mopt',\n",
       "  '_type': 'customer_sales',\n",
       "  'address': '5 Mitta st ',\n",
       "  'barcode': '54d53a75ad0e9eb8ffceb26e552cccxxxxxxxx56568',\n",
       "  'canContact': 1,\n",
       "  'channelCode': 'W',\n",
       "  'channelId': 1,\n",
       "  'city': 'Box North',\n",
       "  'customerId': 2021111110,\n",
       "  'emailAddress': 'dan.wlkjards@telstra.com',\n",
       "  'faceValueFees': 576,\n",
       "  'firstName': 'daniel',\n",
       "  'lastName': 'wlkjards',\n",
       "  'orderId': '20170623,9645',\n",
       "  'phoneNumber': '0438309291',\n",
       "  'price': 9324,\n",
       "  'priceCategoryCode': '2',\n",
       "  'priceCategoryName': 'Category 2',\n",
       "  'priceTypeCode': 'F',\n",
       "  'priceTypeName': 'PGADT',\n",
       "  'productId': 'EAFL2017980',\n",
       "  'productMarketingType': None,\n",
       "  'productShow': None,\n",
       "  'productWhen': None,\n",
       "  'productWhere': None,\n",
       "  'productWho': None,\n",
       "  'quantity': 1,\n",
       "  'row': 'F',\n",
       "  'salutation': 'Mr',\n",
       "  'seat': '18',\n",
       "  'section': 'SP22',\n",
       "  'state': 'VIC',\n",
       "  'transactionDateTime': '2017-06-23T00:00:41Z'}]"
      ]
     },
     "execution_count": 6,
     "metadata": {},
     "output_type": "execute_result"
    }
   ],
   "source": [
    "l_d_records_copy"
   ]
  },
  {
   "cell_type": "code",
   "execution_count": 7,
   "metadata": {},
   "outputs": [
    {
     "ename": "ConnectionError",
     "evalue": "ConnectionError((<urllib3.connection.VerifiedHTTPSConnection object at 0x7f9cb977bf90>, u'Connection to 0d921cb6b29c5241092ee56488cb01ef.ap-southeast-2.aws.found.io timed out. (connect timeout=10)')) caused by: ConnectTimeoutError((<urllib3.connection.VerifiedHTTPSConnection object at 0x7f9cb977bf90>, u'Connection to 0d921cb6b29c5241092ee56488cb01ef.ap-southeast-2.aws.found.io timed out. (connect timeout=10)'))",
     "output_type": "error",
     "traceback": [
      "\u001b[0;31m---------------------------------------------------------------------------\u001b[0m",
      "\u001b[0;31mConnectionError\u001b[0m                           Traceback (most recent call last)",
      "\u001b[0;32m<ipython-input-7-bca25c5eda93>\u001b[0m in \u001b[0;36m<module>\u001b[0;34m()\u001b[0m\n\u001b[0;32m----> 1\u001b[0;31m \u001b[0;34m(\u001b[0m\u001b[0msuccess_count\u001b[0m\u001b[0;34m,\u001b[0m \u001b[0merror_count\u001b[0m\u001b[0;34m)\u001b[0m \u001b[0;34m=\u001b[0m \u001b[0mhelpers\u001b[0m\u001b[0;34m.\u001b[0m\u001b[0mbulk\u001b[0m\u001b[0;34m(\u001b[0m\u001b[0mes\u001b[0m\u001b[0;34m,\u001b[0m \u001b[0ml_d_records_copy\u001b[0m\u001b[0;34m,\u001b[0m \u001b[0mstats_only\u001b[0m\u001b[0;34m=\u001b[0m\u001b[0mTrue\u001b[0m\u001b[0;34m)\u001b[0m\u001b[0;34m\u001b[0m\u001b[0m\n\u001b[0m",
      "\u001b[0;32m/home/usert/Documents/dev/python_dev/py_ve/local/lib/python2.7/site-packages/elasticsearch/helpers/__init__.pyc\u001b[0m in \u001b[0;36mbulk\u001b[0;34m(client, actions, stats_only, **kwargs)\u001b[0m\n\u001b[1;32m    193\u001b[0m     \u001b[0merrors\u001b[0m \u001b[0;34m=\u001b[0m \u001b[0;34m[\u001b[0m\u001b[0;34m]\u001b[0m\u001b[0;34m\u001b[0m\u001b[0m\n\u001b[1;32m    194\u001b[0m \u001b[0;34m\u001b[0m\u001b[0m\n\u001b[0;32m--> 195\u001b[0;31m     \u001b[0;32mfor\u001b[0m \u001b[0mok\u001b[0m\u001b[0;34m,\u001b[0m \u001b[0mitem\u001b[0m \u001b[0;32min\u001b[0m \u001b[0mstreaming_bulk\u001b[0m\u001b[0;34m(\u001b[0m\u001b[0mclient\u001b[0m\u001b[0;34m,\u001b[0m \u001b[0mactions\u001b[0m\u001b[0;34m,\u001b[0m \u001b[0;34m**\u001b[0m\u001b[0mkwargs\u001b[0m\u001b[0;34m)\u001b[0m\u001b[0;34m:\u001b[0m\u001b[0;34m\u001b[0m\u001b[0m\n\u001b[0m\u001b[1;32m    196\u001b[0m         \u001b[0;31m# go through request-reponse pairs and detect failures\u001b[0m\u001b[0;34m\u001b[0m\u001b[0;34m\u001b[0m\u001b[0m\n\u001b[1;32m    197\u001b[0m         \u001b[0;32mif\u001b[0m \u001b[0;32mnot\u001b[0m \u001b[0mok\u001b[0m\u001b[0;34m:\u001b[0m\u001b[0;34m\u001b[0m\u001b[0m\n",
      "\u001b[0;32m/home/usert/Documents/dev/python_dev/py_ve/local/lib/python2.7/site-packages/elasticsearch/helpers/__init__.pyc\u001b[0m in \u001b[0;36mstreaming_bulk\u001b[0;34m(client, actions, chunk_size, max_chunk_bytes, raise_on_error, expand_action_callback, raise_on_exception, **kwargs)\u001b[0m\n\u001b[1;32m    161\u001b[0m \u001b[0;34m\u001b[0m\u001b[0m\n\u001b[1;32m    162\u001b[0m     \u001b[0;32mfor\u001b[0m \u001b[0mbulk_actions\u001b[0m \u001b[0;32min\u001b[0m \u001b[0m_chunk_actions\u001b[0m\u001b[0;34m(\u001b[0m\u001b[0mactions\u001b[0m\u001b[0;34m,\u001b[0m \u001b[0mchunk_size\u001b[0m\u001b[0;34m,\u001b[0m \u001b[0mmax_chunk_bytes\u001b[0m\u001b[0;34m,\u001b[0m \u001b[0mclient\u001b[0m\u001b[0;34m.\u001b[0m\u001b[0mtransport\u001b[0m\u001b[0;34m.\u001b[0m\u001b[0mserializer\u001b[0m\u001b[0;34m)\u001b[0m\u001b[0;34m:\u001b[0m\u001b[0;34m\u001b[0m\u001b[0m\n\u001b[0;32m--> 163\u001b[0;31m         \u001b[0;32mfor\u001b[0m \u001b[0mresult\u001b[0m \u001b[0;32min\u001b[0m \u001b[0m_process_bulk_chunk\u001b[0m\u001b[0;34m(\u001b[0m\u001b[0mclient\u001b[0m\u001b[0;34m,\u001b[0m \u001b[0mbulk_actions\u001b[0m\u001b[0;34m,\u001b[0m \u001b[0mraise_on_exception\u001b[0m\u001b[0;34m,\u001b[0m \u001b[0mraise_on_error\u001b[0m\u001b[0;34m,\u001b[0m \u001b[0;34m**\u001b[0m\u001b[0mkwargs\u001b[0m\u001b[0;34m)\u001b[0m\u001b[0;34m:\u001b[0m\u001b[0;34m\u001b[0m\u001b[0m\n\u001b[0m\u001b[1;32m    164\u001b[0m             \u001b[0;32myield\u001b[0m \u001b[0mresult\u001b[0m\u001b[0;34m\u001b[0m\u001b[0m\n\u001b[1;32m    165\u001b[0m \u001b[0;34m\u001b[0m\u001b[0m\n",
      "\u001b[0;32m/home/usert/Documents/dev/python_dev/py_ve/local/lib/python2.7/site-packages/elasticsearch/helpers/__init__.pyc\u001b[0m in \u001b[0;36m_process_bulk_chunk\u001b[0;34m(client, bulk_actions, raise_on_exception, raise_on_error, **kwargs)\u001b[0m\n\u001b[1;32m     90\u001b[0m         \u001b[0;31m# default behavior - just propagate exception\u001b[0m\u001b[0;34m\u001b[0m\u001b[0;34m\u001b[0m\u001b[0m\n\u001b[1;32m     91\u001b[0m         \u001b[0;32mif\u001b[0m \u001b[0mraise_on_exception\u001b[0m\u001b[0;34m:\u001b[0m\u001b[0;34m\u001b[0m\u001b[0m\n\u001b[0;32m---> 92\u001b[0;31m             \u001b[0;32mraise\u001b[0m \u001b[0me\u001b[0m\u001b[0;34m\u001b[0m\u001b[0m\n\u001b[0m\u001b[1;32m     93\u001b[0m \u001b[0;34m\u001b[0m\u001b[0m\n\u001b[1;32m     94\u001b[0m         \u001b[0;31m# if we are not propagating, mark all actions in current chunk as failed\u001b[0m\u001b[0;34m\u001b[0m\u001b[0;34m\u001b[0m\u001b[0m\n",
      "\u001b[0;31mConnectionError\u001b[0m: ConnectionError((<urllib3.connection.VerifiedHTTPSConnection object at 0x7f9cb977bf90>, u'Connection to 0d921cb6b29c5241092ee56488cb01ef.ap-southeast-2.aws.found.io timed out. (connect timeout=10)')) caused by: ConnectTimeoutError((<urllib3.connection.VerifiedHTTPSConnection object at 0x7f9cb977bf90>, u'Connection to 0d921cb6b29c5241092ee56488cb01ef.ap-southeast-2.aws.found.io timed out. (connect timeout=10)'))"
     ]
    }
   ],
   "source": [
    "(success_count, error_count) = helpers.bulk(es, l_d_records_copy, stats_only=True)"
   ]
  },
  {
   "cell_type": "code",
   "execution_count": null,
   "metadata": {
    "collapsed": true
   },
   "outputs": [],
   "source": []
  }
 ],
 "metadata": {
  "kernelspec": {
   "display_name": "Python venv (Python 2)",
   "language": "python",
   "name": "py_ve"
  },
  "language_info": {
   "codemirror_mode": {
    "name": "ipython",
    "version": 2
   },
   "file_extension": ".py",
   "mimetype": "text/x-python",
   "name": "python",
   "nbconvert_exporter": "python",
   "pygments_lexer": "ipython2",
   "version": "2.7.12"
  }
 },
 "nbformat": 4,
 "nbformat_minor": 2
}
